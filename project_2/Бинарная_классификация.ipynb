{
  "cells": [
    {
      "cell_type": "markdown",
      "metadata": {
        "id": "lv9jGAqk_N_2"
      },
      "source": [
        "## Данные\n",
        "\n",
        "Предлагается решить задачу бинарной классификации, а именно построить алгоритм, определяющий превысит ли средний заработок человека порог $50k. Каждый объект выборки — человек, для которого известны следующие признаки:\n",
        " - age\n",
        " - workclass\n",
        " - fnlwgt\n",
        " - education\n",
        " - education-num\n",
        " - marital-status\n",
        " - occupation\n",
        " - relationship\n",
        " - race\n",
        " - sex\n",
        " - capital-gain\n",
        " - capital-loss\n",
        " - hours-per-week\n",
        "\n",
        "Более подробно про признаки можно почитать [здесь](http://archive.ics.uci.edu/ml/machine-learning-databases/adult/adult.names). Целевой признак записан в переменной *>50K,<=50K*."
      ]
    },
    {
      "cell_type": "markdown",
      "metadata": {
        "id": "2GJO_Mir_N_3"
      },
      "source": [
        "## Метрика качества\n",
        "\n",
        "В задании мы будем оценивать качество моделей с помощью метрики AUC-ROC."
      ]
    },
    {
      "cell_type": "markdown",
      "metadata": {
        "id": "nBtZx3iN_N_3"
      },
      "source": [
        "## Подбор гиперпараметров модели\n"
      ]
    },
    {
      "cell_type": "code",
      "source": [
        "import numpy as np\n",
        "import pandas as pd\n",
        "from sklearn.neighbors import KNeighborsClassifier\n",
        "from sklearn.model_selection import GridSearchCV\n",
        "from sklearn.tree import DecisionTreeClassifier\n",
        "from sklearn.linear_model import SGDClassifier\n",
        "import matplotlib.pyplot as plt\n",
        "from sklearn.base import TransformerMixin\n",
        "from sklearn.preprocessing import StandardScaler\n",
        "from sklearn.ensemble import RandomForestClassifier\n",
        "from sklearn.model_selection import cross_validate\n",
        "!pip install category_encoders\n",
        "from category_encoders.one_hot import OneHotEncoder"
      ],
      "metadata": {
        "id": "9opvz57oAbVW",
        "colab": {
          "base_uri": "https://localhost:8080/"
        },
        "outputId": "060a217d-b364-4a8b-9b49-5fc80ac7f554"
      },
      "execution_count": null,
      "outputs": [
        {
          "output_type": "stream",
          "name": "stdout",
          "text": [
            "Requirement already satisfied: category_encoders in /usr/local/lib/python3.10/dist-packages (2.6.3)\n",
            "Requirement already satisfied: numpy>=1.14.0 in /usr/local/lib/python3.10/dist-packages (from category_encoders) (1.23.5)\n",
            "Requirement already satisfied: scikit-learn>=0.20.0 in /usr/local/lib/python3.10/dist-packages (from category_encoders) (1.2.2)\n",
            "Requirement already satisfied: scipy>=1.0.0 in /usr/local/lib/python3.10/dist-packages (from category_encoders) (1.11.4)\n",
            "Requirement already satisfied: statsmodels>=0.9.0 in /usr/local/lib/python3.10/dist-packages (from category_encoders) (0.14.0)\n",
            "Requirement already satisfied: pandas>=1.0.5 in /usr/local/lib/python3.10/dist-packages (from category_encoders) (1.5.3)\n",
            "Requirement already satisfied: patsy>=0.5.1 in /usr/local/lib/python3.10/dist-packages (from category_encoders) (0.5.4)\n",
            "Requirement already satisfied: python-dateutil>=2.8.1 in /usr/local/lib/python3.10/dist-packages (from pandas>=1.0.5->category_encoders) (2.8.2)\n",
            "Requirement already satisfied: pytz>=2020.1 in /usr/local/lib/python3.10/dist-packages (from pandas>=1.0.5->category_encoders) (2023.3.post1)\n",
            "Requirement already satisfied: six in /usr/local/lib/python3.10/dist-packages (from patsy>=0.5.1->category_encoders) (1.16.0)\n",
            "Requirement already satisfied: joblib>=1.1.1 in /usr/local/lib/python3.10/dist-packages (from scikit-learn>=0.20.0->category_encoders) (1.3.2)\n",
            "Requirement already satisfied: threadpoolctl>=2.0.0 in /usr/local/lib/python3.10/dist-packages (from scikit-learn>=0.20.0->category_encoders) (3.2.0)\n",
            "Requirement already satisfied: packaging>=21.3 in /usr/local/lib/python3.10/dist-packages (from statsmodels>=0.9.0->category_encoders) (23.2)\n"
          ]
        }
      ]
    },
    {
      "cell_type": "code",
      "execution_count": null,
      "metadata": {
        "collapsed": true,
        "id": "QCvFYeXA_N_5",
        "colab": {
          "base_uri": "https://localhost:8080/",
          "height": 310
        },
        "outputId": "cad2c986-f0b9-4eb4-f2b6-18c0607e8cbe"
      },
      "outputs": [
        {
          "output_type": "execute_result",
          "data": {
            "text/plain": [
              "   age  workclass  fnlwgt     education  education-num      marital-status  \\\n",
              "0   34  Local-gov  284843       HS-grad              9       Never-married   \n",
              "1   40    Private  190290  Some-college             10            Divorced   \n",
              "2   36  Local-gov  177858     Bachelors             13  Married-civ-spouse   \n",
              "3   22    Private  184756  Some-college             10       Never-married   \n",
              "4   47    Private  149700     Bachelors             13  Married-civ-spouse   \n",
              "\n",
              "        occupation   relationship   race     sex  capital-gain  capital-loss  \\\n",
              "0  Farming-fishing  Not-in-family  Black    Male           594             0   \n",
              "1            Sales  Not-in-family  White    Male             0             0   \n",
              "2   Prof-specialty      Own-child  White    Male             0             0   \n",
              "3            Sales      Own-child  White  Female             0             0   \n",
              "4     Tech-support        Husband  White    Male         15024             0   \n",
              "\n",
              "   hours-per-week >50K,<=50K  \n",
              "0              60      <=50K  \n",
              "1              40      <=50K  \n",
              "2              40      <=50K  \n",
              "3              30      <=50K  \n",
              "4              40       >50K  "
            ],
            "text/html": [
              "\n",
              "  <div id=\"df-40aee42f-549c-464b-a75d-c0386cee6e0f\" class=\"colab-df-container\">\n",
              "    <div>\n",
              "<style scoped>\n",
              "    .dataframe tbody tr th:only-of-type {\n",
              "        vertical-align: middle;\n",
              "    }\n",
              "\n",
              "    .dataframe tbody tr th {\n",
              "        vertical-align: top;\n",
              "    }\n",
              "\n",
              "    .dataframe thead th {\n",
              "        text-align: right;\n",
              "    }\n",
              "</style>\n",
              "<table border=\"1\" class=\"dataframe\">\n",
              "  <thead>\n",
              "    <tr style=\"text-align: right;\">\n",
              "      <th></th>\n",
              "      <th>age</th>\n",
              "      <th>workclass</th>\n",
              "      <th>fnlwgt</th>\n",
              "      <th>education</th>\n",
              "      <th>education-num</th>\n",
              "      <th>marital-status</th>\n",
              "      <th>occupation</th>\n",
              "      <th>relationship</th>\n",
              "      <th>race</th>\n",
              "      <th>sex</th>\n",
              "      <th>capital-gain</th>\n",
              "      <th>capital-loss</th>\n",
              "      <th>hours-per-week</th>\n",
              "      <th>&gt;50K,&lt;=50K</th>\n",
              "    </tr>\n",
              "  </thead>\n",
              "  <tbody>\n",
              "    <tr>\n",
              "      <th>0</th>\n",
              "      <td>34</td>\n",
              "      <td>Local-gov</td>\n",
              "      <td>284843</td>\n",
              "      <td>HS-grad</td>\n",
              "      <td>9</td>\n",
              "      <td>Never-married</td>\n",
              "      <td>Farming-fishing</td>\n",
              "      <td>Not-in-family</td>\n",
              "      <td>Black</td>\n",
              "      <td>Male</td>\n",
              "      <td>594</td>\n",
              "      <td>0</td>\n",
              "      <td>60</td>\n",
              "      <td>&lt;=50K</td>\n",
              "    </tr>\n",
              "    <tr>\n",
              "      <th>1</th>\n",
              "      <td>40</td>\n",
              "      <td>Private</td>\n",
              "      <td>190290</td>\n",
              "      <td>Some-college</td>\n",
              "      <td>10</td>\n",
              "      <td>Divorced</td>\n",
              "      <td>Sales</td>\n",
              "      <td>Not-in-family</td>\n",
              "      <td>White</td>\n",
              "      <td>Male</td>\n",
              "      <td>0</td>\n",
              "      <td>0</td>\n",
              "      <td>40</td>\n",
              "      <td>&lt;=50K</td>\n",
              "    </tr>\n",
              "    <tr>\n",
              "      <th>2</th>\n",
              "      <td>36</td>\n",
              "      <td>Local-gov</td>\n",
              "      <td>177858</td>\n",
              "      <td>Bachelors</td>\n",
              "      <td>13</td>\n",
              "      <td>Married-civ-spouse</td>\n",
              "      <td>Prof-specialty</td>\n",
              "      <td>Own-child</td>\n",
              "      <td>White</td>\n",
              "      <td>Male</td>\n",
              "      <td>0</td>\n",
              "      <td>0</td>\n",
              "      <td>40</td>\n",
              "      <td>&lt;=50K</td>\n",
              "    </tr>\n",
              "    <tr>\n",
              "      <th>3</th>\n",
              "      <td>22</td>\n",
              "      <td>Private</td>\n",
              "      <td>184756</td>\n",
              "      <td>Some-college</td>\n",
              "      <td>10</td>\n",
              "      <td>Never-married</td>\n",
              "      <td>Sales</td>\n",
              "      <td>Own-child</td>\n",
              "      <td>White</td>\n",
              "      <td>Female</td>\n",
              "      <td>0</td>\n",
              "      <td>0</td>\n",
              "      <td>30</td>\n",
              "      <td>&lt;=50K</td>\n",
              "    </tr>\n",
              "    <tr>\n",
              "      <th>4</th>\n",
              "      <td>47</td>\n",
              "      <td>Private</td>\n",
              "      <td>149700</td>\n",
              "      <td>Bachelors</td>\n",
              "      <td>13</td>\n",
              "      <td>Married-civ-spouse</td>\n",
              "      <td>Tech-support</td>\n",
              "      <td>Husband</td>\n",
              "      <td>White</td>\n",
              "      <td>Male</td>\n",
              "      <td>15024</td>\n",
              "      <td>0</td>\n",
              "      <td>40</td>\n",
              "      <td>&gt;50K</td>\n",
              "    </tr>\n",
              "  </tbody>\n",
              "</table>\n",
              "</div>\n",
              "    <div class=\"colab-df-buttons\">\n",
              "\n",
              "  <div class=\"colab-df-container\">\n",
              "    <button class=\"colab-df-convert\" onclick=\"convertToInteractive('df-40aee42f-549c-464b-a75d-c0386cee6e0f')\"\n",
              "            title=\"Convert this dataframe to an interactive table.\"\n",
              "            style=\"display:none;\">\n",
              "\n",
              "  <svg xmlns=\"http://www.w3.org/2000/svg\" height=\"24px\" viewBox=\"0 -960 960 960\">\n",
              "    <path d=\"M120-120v-720h720v720H120Zm60-500h600v-160H180v160Zm220 220h160v-160H400v160Zm0 220h160v-160H400v160ZM180-400h160v-160H180v160Zm440 0h160v-160H620v160ZM180-180h160v-160H180v160Zm440 0h160v-160H620v160Z\"/>\n",
              "  </svg>\n",
              "    </button>\n",
              "\n",
              "  <style>\n",
              "    .colab-df-container {\n",
              "      display:flex;\n",
              "      gap: 12px;\n",
              "    }\n",
              "\n",
              "    .colab-df-convert {\n",
              "      background-color: #E8F0FE;\n",
              "      border: none;\n",
              "      border-radius: 50%;\n",
              "      cursor: pointer;\n",
              "      display: none;\n",
              "      fill: #1967D2;\n",
              "      height: 32px;\n",
              "      padding: 0 0 0 0;\n",
              "      width: 32px;\n",
              "    }\n",
              "\n",
              "    .colab-df-convert:hover {\n",
              "      background-color: #E2EBFA;\n",
              "      box-shadow: 0px 1px 2px rgba(60, 64, 67, 0.3), 0px 1px 3px 1px rgba(60, 64, 67, 0.15);\n",
              "      fill: #174EA6;\n",
              "    }\n",
              "\n",
              "    .colab-df-buttons div {\n",
              "      margin-bottom: 4px;\n",
              "    }\n",
              "\n",
              "    [theme=dark] .colab-df-convert {\n",
              "      background-color: #3B4455;\n",
              "      fill: #D2E3FC;\n",
              "    }\n",
              "\n",
              "    [theme=dark] .colab-df-convert:hover {\n",
              "      background-color: #434B5C;\n",
              "      box-shadow: 0px 1px 3px 1px rgba(0, 0, 0, 0.15);\n",
              "      filter: drop-shadow(0px 1px 2px rgba(0, 0, 0, 0.3));\n",
              "      fill: #FFFFFF;\n",
              "    }\n",
              "  </style>\n",
              "\n",
              "    <script>\n",
              "      const buttonEl =\n",
              "        document.querySelector('#df-40aee42f-549c-464b-a75d-c0386cee6e0f button.colab-df-convert');\n",
              "      buttonEl.style.display =\n",
              "        google.colab.kernel.accessAllowed ? 'block' : 'none';\n",
              "\n",
              "      async function convertToInteractive(key) {\n",
              "        const element = document.querySelector('#df-40aee42f-549c-464b-a75d-c0386cee6e0f');\n",
              "        const dataTable =\n",
              "          await google.colab.kernel.invokeFunction('convertToInteractive',\n",
              "                                                    [key], {});\n",
              "        if (!dataTable) return;\n",
              "\n",
              "        const docLinkHtml = 'Like what you see? Visit the ' +\n",
              "          '<a target=\"_blank\" href=https://colab.research.google.com/notebooks/data_table.ipynb>data table notebook</a>'\n",
              "          + ' to learn more about interactive tables.';\n",
              "        element.innerHTML = '';\n",
              "        dataTable['output_type'] = 'display_data';\n",
              "        await google.colab.output.renderOutput(dataTable, element);\n",
              "        const docLink = document.createElement('div');\n",
              "        docLink.innerHTML = docLinkHtml;\n",
              "        element.appendChild(docLink);\n",
              "      }\n",
              "    </script>\n",
              "  </div>\n",
              "\n",
              "\n",
              "<div id=\"df-e97118a9-43f6-4f96-9aee-d1f125edc798\">\n",
              "  <button class=\"colab-df-quickchart\" onclick=\"quickchart('df-e97118a9-43f6-4f96-9aee-d1f125edc798')\"\n",
              "            title=\"Suggest charts\"\n",
              "            style=\"display:none;\">\n",
              "\n",
              "<svg xmlns=\"http://www.w3.org/2000/svg\" height=\"24px\"viewBox=\"0 0 24 24\"\n",
              "     width=\"24px\">\n",
              "    <g>\n",
              "        <path d=\"M19 3H5c-1.1 0-2 .9-2 2v14c0 1.1.9 2 2 2h14c1.1 0 2-.9 2-2V5c0-1.1-.9-2-2-2zM9 17H7v-7h2v7zm4 0h-2V7h2v10zm4 0h-2v-4h2v4z\"/>\n",
              "    </g>\n",
              "</svg>\n",
              "  </button>\n",
              "\n",
              "<style>\n",
              "  .colab-df-quickchart {\n",
              "      --bg-color: #E8F0FE;\n",
              "      --fill-color: #1967D2;\n",
              "      --hover-bg-color: #E2EBFA;\n",
              "      --hover-fill-color: #174EA6;\n",
              "      --disabled-fill-color: #AAA;\n",
              "      --disabled-bg-color: #DDD;\n",
              "  }\n",
              "\n",
              "  [theme=dark] .colab-df-quickchart {\n",
              "      --bg-color: #3B4455;\n",
              "      --fill-color: #D2E3FC;\n",
              "      --hover-bg-color: #434B5C;\n",
              "      --hover-fill-color: #FFFFFF;\n",
              "      --disabled-bg-color: #3B4455;\n",
              "      --disabled-fill-color: #666;\n",
              "  }\n",
              "\n",
              "  .colab-df-quickchart {\n",
              "    background-color: var(--bg-color);\n",
              "    border: none;\n",
              "    border-radius: 50%;\n",
              "    cursor: pointer;\n",
              "    display: none;\n",
              "    fill: var(--fill-color);\n",
              "    height: 32px;\n",
              "    padding: 0;\n",
              "    width: 32px;\n",
              "  }\n",
              "\n",
              "  .colab-df-quickchart:hover {\n",
              "    background-color: var(--hover-bg-color);\n",
              "    box-shadow: 0 1px 2px rgba(60, 64, 67, 0.3), 0 1px 3px 1px rgba(60, 64, 67, 0.15);\n",
              "    fill: var(--button-hover-fill-color);\n",
              "  }\n",
              "\n",
              "  .colab-df-quickchart-complete:disabled,\n",
              "  .colab-df-quickchart-complete:disabled:hover {\n",
              "    background-color: var(--disabled-bg-color);\n",
              "    fill: var(--disabled-fill-color);\n",
              "    box-shadow: none;\n",
              "  }\n",
              "\n",
              "  .colab-df-spinner {\n",
              "    border: 2px solid var(--fill-color);\n",
              "    border-color: transparent;\n",
              "    border-bottom-color: var(--fill-color);\n",
              "    animation:\n",
              "      spin 1s steps(1) infinite;\n",
              "  }\n",
              "\n",
              "  @keyframes spin {\n",
              "    0% {\n",
              "      border-color: transparent;\n",
              "      border-bottom-color: var(--fill-color);\n",
              "      border-left-color: var(--fill-color);\n",
              "    }\n",
              "    20% {\n",
              "      border-color: transparent;\n",
              "      border-left-color: var(--fill-color);\n",
              "      border-top-color: var(--fill-color);\n",
              "    }\n",
              "    30% {\n",
              "      border-color: transparent;\n",
              "      border-left-color: var(--fill-color);\n",
              "      border-top-color: var(--fill-color);\n",
              "      border-right-color: var(--fill-color);\n",
              "    }\n",
              "    40% {\n",
              "      border-color: transparent;\n",
              "      border-right-color: var(--fill-color);\n",
              "      border-top-color: var(--fill-color);\n",
              "    }\n",
              "    60% {\n",
              "      border-color: transparent;\n",
              "      border-right-color: var(--fill-color);\n",
              "    }\n",
              "    80% {\n",
              "      border-color: transparent;\n",
              "      border-right-color: var(--fill-color);\n",
              "      border-bottom-color: var(--fill-color);\n",
              "    }\n",
              "    90% {\n",
              "      border-color: transparent;\n",
              "      border-bottom-color: var(--fill-color);\n",
              "    }\n",
              "  }\n",
              "</style>\n",
              "\n",
              "  <script>\n",
              "    async function quickchart(key) {\n",
              "      const quickchartButtonEl =\n",
              "        document.querySelector('#' + key + ' button');\n",
              "      quickchartButtonEl.disabled = true;  // To prevent multiple clicks.\n",
              "      quickchartButtonEl.classList.add('colab-df-spinner');\n",
              "      try {\n",
              "        const charts = await google.colab.kernel.invokeFunction(\n",
              "            'suggestCharts', [key], {});\n",
              "      } catch (error) {\n",
              "        console.error('Error during call to suggestCharts:', error);\n",
              "      }\n",
              "      quickchartButtonEl.classList.remove('colab-df-spinner');\n",
              "      quickchartButtonEl.classList.add('colab-df-quickchart-complete');\n",
              "    }\n",
              "    (() => {\n",
              "      let quickchartButtonEl =\n",
              "        document.querySelector('#df-e97118a9-43f6-4f96-9aee-d1f125edc798 button');\n",
              "      quickchartButtonEl.style.display =\n",
              "        google.colab.kernel.accessAllowed ? 'block' : 'none';\n",
              "    })();\n",
              "  </script>\n",
              "</div>\n",
              "    </div>\n",
              "  </div>\n"
            ]
          },
          "metadata": {},
          "execution_count": 2
        }
      ],
      "source": [
        "data = pd.read_csv(\"data.adult.csv\")\n",
        "data.head()"
      ]
    },
    {
      "cell_type": "markdown",
      "metadata": {
        "id": "FbcMUFz4_N_7"
      },
      "source": [
        "В данном датасете пропущенные значения обозначены как \"?\".\n"
      ]
    },
    {
      "cell_type": "code",
      "source": [
        "#удалим объекты с пропусками\n",
        "for col in data.columns:\n",
        "  data.loc[data[col] == \"?\", col] = None\n",
        "data = data.dropna(axis = 0)"
      ],
      "metadata": {
        "id": "O_uQ7FlhEj3H"
      },
      "execution_count": null,
      "outputs": []
    },
    {
      "cell_type": "code",
      "execution_count": null,
      "metadata": {
        "collapsed": true,
        "id": "j2sLBSip_N_8"
      },
      "outputs": [],
      "source": [
        "#преобразуем целевую переменную к бинарному формату, выделим ее и удалим ее из датасета\n",
        "data['y'] = np.where(data['>50K,<=50K']==\">50K\", 1, 0)\n",
        "y = data['y']\n",
        "data = data.drop(['>50K,<=50K'],axis=1)\n",
        "data = data.drop(['y'],axis=1)"
      ]
    },
    {
      "cell_type": "code",
      "source": [
        "#выделим вещественные признаки\n",
        "float_columns = data.columns[data.dtypes == 'float64'].tolist()\n",
        "X = data[float_columns]"
      ],
      "metadata": {
        "id": "43Lijy0ORnY1"
      },
      "execution_count": null,
      "outputs": []
    },
    {
      "cell_type": "markdown",
      "metadata": {
        "id": "Pvv3ol_C_N_9"
      },
      "source": [
        "## Обучение классификаторов на вещественных признаках\n"
      ]
    },
    {
      "cell_type": "code",
      "execution_count": null,
      "metadata": {
        "collapsed": true,
        "id": "vJI-_ZxF_N_9",
        "colab": {
          "base_uri": "https://localhost:8080/"
        },
        "outputId": "4546f0f9-b345-4bfa-bed3-c45f8559b60e"
      },
      "outputs": [
        {
          "output_type": "stream",
          "name": "stdout",
          "text": [
            "best score: 0.6406685362017244\n",
            "best params: {'n_neighbors': 4}\n"
          ]
        }
      ],
      "source": [
        "#подберем наилучший параметр n_neighbors для KNN с помощью GridSearchCV\n",
        "neigh = KNeighborsClassifier()\n",
        "params = {'n_neighbors':[1,2,3,4,5,6,7,8,9,10]}\n",
        "grid = GridSearchCV(neigh, params, cv=5, scoring='roc_auc')\n",
        "grid.fit(X, y)\n",
        "print('best score:', grid.best_score_)\n",
        "print('best params:', grid.best_params_)"
      ]
    },
    {
      "cell_type": "code",
      "source": [
        "#Оптимальное значение параметра n_neighbors получилось равным 4. Значение ROC-AUC приблизительно равно 0.64."
      ],
      "metadata": {
        "id": "vU0VW10IwRH2"
      },
      "execution_count": null,
      "outputs": []
    },
    {
      "cell_type": "code",
      "source": [
        "#подберем наилучший параметр max_depth для DecisionTree с помощью GridSearchCV\n",
        "dtc = DecisionTreeClassifier()\n",
        "params = {'max_depth':[None,1,2,3,4,5,6,7,8,9,10]}\n",
        "grid = GridSearchCV(dtc, params, cv=5, scoring='roc_auc')\n",
        "grid.fit(X, y)\n",
        "print('best score:', grid.best_score_)\n",
        "print('best params:', grid.best_params_)"
      ],
      "metadata": {
        "id": "Wqzva6jQgyw0",
        "colab": {
          "base_uri": "https://localhost:8080/"
        },
        "outputId": "8981634a-afd3-402d-9024-dcb2502a9972"
      },
      "execution_count": null,
      "outputs": [
        {
          "output_type": "stream",
          "name": "stdout",
          "text": [
            "best score: 0.8415312329417738\n",
            "best params: {'max_depth': 7}\n"
          ]
        }
      ]
    },
    {
      "cell_type": "code",
      "source": [
        "#Оптимальное значение параметра max_depth получилось равным 7. Значение ROC-AUC приблизительно равно 0.84."
      ],
      "metadata": {
        "id": "4q6iQP0HZ_A3"
      },
      "execution_count": null,
      "outputs": []
    },
    {
      "cell_type": "code",
      "source": [
        "#подберем наилучший параметр loss для SGD Linear Classifier с помощью GridSearchCV\n",
        "sgd = SGDClassifier()\n",
        "params = {'loss':['hinge', 'log_loss', 'modified_huber', 'squared_hinge', 'perceptron', 'squared_error', 'huber', 'epsilon_insensitive', 'squared_epsilon_insensitive']}\n",
        "grid = GridSearchCV(sgd, params, cv=5, scoring='roc_auc')\n",
        "grid.fit(X, y)\n",
        "print('best score:', grid.best_score_)\n",
        "print('best params:', grid.best_params_)"
      ],
      "metadata": {
        "colab": {
          "base_uri": "https://localhost:8080/"
        },
        "id": "yxyC5MEXpXRf",
        "outputId": "9f337c92-5819-438c-fcff-cf0be7884c6c"
      },
      "execution_count": null,
      "outputs": [
        {
          "output_type": "stream",
          "name": "stderr",
          "text": [
            "/usr/local/lib/python3.10/dist-packages/sklearn/linear_model/_stochastic_gradient.py:702: ConvergenceWarning: Maximum number of iteration reached before convergence. Consider increasing max_iter to improve the fit.\n",
            "  warnings.warn(\n",
            "/usr/local/lib/python3.10/dist-packages/sklearn/linear_model/_stochastic_gradient.py:702: ConvergenceWarning: Maximum number of iteration reached before convergence. Consider increasing max_iter to improve the fit.\n",
            "  warnings.warn(\n",
            "/usr/local/lib/python3.10/dist-packages/sklearn/linear_model/_stochastic_gradient.py:702: ConvergenceWarning: Maximum number of iteration reached before convergence. Consider increasing max_iter to improve the fit.\n",
            "  warnings.warn(\n",
            "/usr/local/lib/python3.10/dist-packages/sklearn/linear_model/_stochastic_gradient.py:702: ConvergenceWarning: Maximum number of iteration reached before convergence. Consider increasing max_iter to improve the fit.\n",
            "  warnings.warn(\n",
            "/usr/local/lib/python3.10/dist-packages/sklearn/linear_model/_stochastic_gradient.py:702: ConvergenceWarning: Maximum number of iteration reached before convergence. Consider increasing max_iter to improve the fit.\n",
            "  warnings.warn(\n",
            "/usr/local/lib/python3.10/dist-packages/sklearn/linear_model/_stochastic_gradient.py:702: ConvergenceWarning: Maximum number of iteration reached before convergence. Consider increasing max_iter to improve the fit.\n",
            "  warnings.warn(\n",
            "/usr/local/lib/python3.10/dist-packages/sklearn/linear_model/_stochastic_gradient.py:702: ConvergenceWarning: Maximum number of iteration reached before convergence. Consider increasing max_iter to improve the fit.\n",
            "  warnings.warn(\n",
            "/usr/local/lib/python3.10/dist-packages/sklearn/linear_model/_stochastic_gradient.py:702: ConvergenceWarning: Maximum number of iteration reached before convergence. Consider increasing max_iter to improve the fit.\n",
            "  warnings.warn(\n",
            "/usr/local/lib/python3.10/dist-packages/sklearn/linear_model/_stochastic_gradient.py:702: ConvergenceWarning: Maximum number of iteration reached before convergence. Consider increasing max_iter to improve the fit.\n",
            "  warnings.warn(\n",
            "/usr/local/lib/python3.10/dist-packages/sklearn/linear_model/_stochastic_gradient.py:702: ConvergenceWarning: Maximum number of iteration reached before convergence. Consider increasing max_iter to improve the fit.\n",
            "  warnings.warn(\n"
          ]
        },
        {
          "output_type": "stream",
          "name": "stdout",
          "text": [
            "best score: 0.6207066635512728\n",
            "best params: {'loss': 'log_loss'}\n"
          ]
        }
      ]
    },
    {
      "cell_type": "code",
      "source": [
        "#Оптимальным параметром loss является log_loss. Значение ROC-AUC приблизительно равно 0.62."
      ],
      "metadata": {
        "id": "_Yn_n1otaDKM"
      },
      "execution_count": null,
      "outputs": []
    },
    {
      "cell_type": "code",
      "source": [
        "#подберем параметр n_estimators для RandomForest, при котором качество на кросс-валидации стабилизируется\n",
        "for a in np.arange(10, 101, 10):\n",
        "    rfc = RandomForestClassifier(n_estimators = a)\n",
        "    cv_res = cross_validate(rfc, X, y, scoring='roc_auc', cv=5)\n",
        "    print('n_estimators =', a)\n",
        "    print(f\"mean test ROC-AUC = {cv_res['test_score'].mean()}\")"
      ],
      "metadata": {
        "colab": {
          "base_uri": "https://localhost:8080/"
        },
        "id": "Iogj0Xnc6tmB",
        "outputId": "f73a3939-2247-4fdc-8d60-07309b03c2c9"
      },
      "execution_count": null,
      "outputs": [
        {
          "output_type": "stream",
          "name": "stdout",
          "text": [
            "n_estimators = 10\n",
            "mean test ROC-AUC = 0.792407779250264\n",
            "n_estimators = 20\n",
            "mean test ROC-AUC = 0.8050167265052449\n",
            "n_estimators = 30\n",
            "mean test ROC-AUC = 0.8111011878581899\n",
            "n_estimators = 40\n",
            "mean test ROC-AUC = 0.8137306517356009\n",
            "n_estimators = 50\n",
            "mean test ROC-AUC = 0.8144311784675977\n",
            "n_estimators = 60\n",
            "mean test ROC-AUC = 0.8146440113336977\n",
            "n_estimators = 70\n",
            "mean test ROC-AUC = 0.815797408606857\n",
            "n_estimators = 80\n",
            "mean test ROC-AUC = 0.8177716601850742\n",
            "n_estimators = 90\n",
            "mean test ROC-AUC = 0.8175550941387304\n",
            "n_estimators = 100\n",
            "mean test ROC-AUC = 0.8178384753224666\n"
          ]
        }
      ]
    },
    {
      "cell_type": "code",
      "source": [
        "#При n_estimators = 30 качество стабилизируется приблизительно на ROC-AUC = 0.81."
      ],
      "metadata": {
        "id": "Z1K5Gzhx9Tl1"
      },
      "execution_count": null,
      "outputs": []
    },
    {
      "cell_type": "code",
      "execution_count": null,
      "metadata": {
        "collapsed": true,
        "id": "UPlBU52u_N_-",
        "colab": {
          "base_uri": "https://localhost:8080/",
          "height": 656
        },
        "outputId": "4cc607c2-8242-48d0-e016-280e1da2a7d7"
      },
      "outputs": [
        {
          "output_type": "execute_result",
          "data": {
            "text/plain": [
              "(array([694., 640., 751., 787., 750., 800., 820., 818., 858., 873., 824.,\n",
              "        829., 754., 710., 707., 515., 611., 464., 399., 336., 333., 271.,\n",
              "        214., 169., 105.,  85.,  59.,  47.,  35.,  32.,  16.,  13.,   4.,\n",
              "          7.,   1.,  16.]),\n",
              " array([17.        , 19.02777778, 21.05555556, 23.08333333, 25.11111111,\n",
              "        27.13888889, 29.16666667, 31.19444444, 33.22222222, 35.25      ,\n",
              "        37.27777778, 39.30555556, 41.33333333, 43.36111111, 45.38888889,\n",
              "        47.41666667, 49.44444444, 51.47222222, 53.5       , 55.52777778,\n",
              "        57.55555556, 59.58333333, 61.61111111, 63.63888889, 65.66666667,\n",
              "        67.69444444, 69.72222222, 71.75      , 73.77777778, 75.80555556,\n",
              "        77.83333333, 79.86111111, 81.88888889, 83.91666667, 85.94444444,\n",
              "        87.97222222, 90.        ]),\n",
              " <BarContainer object of 36 artists>)"
            ]
          },
          "metadata": {},
          "execution_count": 10
        },
        {
          "output_type": "display_data",
          "data": {
            "text/plain": [
              "<Figure size 640x480 with 1 Axes>"
            ],
            "image/png": "[encoded data removed]"
          },
          "metadata": {}
        }
      ],
      "source": [
        "#построим гистограмму для переменнной age\n",
        "plt.hist(X['age'], color = 'blue', edgecolor = 'black',\n",
        "         bins = int(180/5))"
      ]
    },
    {
      "cell_type": "code",
      "source": [
        "#построим гистограмму для переменнной fnlwgt\n",
        "plt.hist(X['fnlwgt'], color = 'blue', edgecolor = 'black',\n",
        "         bins = int(180/5))"
      ],
      "metadata": {
        "colab": {
          "base_uri": "https://localhost:8080/",
          "height": 795
        },
        "id": "u0TV0wQJ0ApC",
        "outputId": "fd235864-04ee-4f5f-d617-bf8efd103f35"
      },
      "execution_count": null,
      "outputs": [
        {
          "output_type": "execute_result",
          "data": {
            "text/plain": [
              "(array([1.424e+03, 1.333e+03, 2.427e+03, 2.780e+03, 2.966e+03, 1.448e+03,\n",
              "        9.820e+02, 7.700e+02, 4.830e+02, 3.270e+02, 1.620e+02, 8.800e+01,\n",
              "        4.700e+01, 3.500e+01, 2.800e+01, 1.400e+01, 9.000e+00, 8.000e+00,\n",
              "        1.000e+00, 3.000e+00, 0.000e+00, 1.000e+00, 1.000e+00, 1.000e+00,\n",
              "        2.000e+00, 1.000e+00, 0.000e+00, 1.000e+00, 0.000e+00, 1.000e+00,\n",
              "        1.000e+00, 0.000e+00, 0.000e+00, 1.000e+00, 0.000e+00, 2.000e+00]),\n",
              " array([  19302.        ,   60007.63888889,  100713.27777778,\n",
              "         141418.91666667,  182124.55555556,  222830.19444444,\n",
              "         263535.83333333,  304241.47222222,  344947.11111111,\n",
              "         385652.75      ,  426358.38888889,  467064.02777778,\n",
              "         507769.66666667,  548475.30555556,  589180.94444444,\n",
              "         629886.58333333,  670592.22222222,  711297.86111111,\n",
              "         752003.5       ,  792709.13888889,  833414.77777778,\n",
              "         874120.41666667,  914826.05555556,  955531.69444444,\n",
              "         996237.33333333, 1036942.97222222, 1077648.61111111,\n",
              "        1118354.25      , 1159059.88888889, 1199765.52777778,\n",
              "        1240471.16666667, 1281176.80555556, 1321882.44444444,\n",
              "        1362588.08333333, 1403293.72222222, 1443999.36111111,\n",
              "        1484705.        ]),\n",
              " <BarContainer object of 36 artists>)"
            ]
          },
          "metadata": {},
          "execution_count": 11
        },
        {
          "output_type": "display_data",
          "data": {
            "text/plain": [
              "<Figure size 640x480 with 1 Axes>"
            ],
            "image/png": "[encoded data removed]"
          },
          "metadata": {}
        }
      ]
    },
    {
      "cell_type": "code",
      "source": [
        "#построим гистограмму для переменнной capital-gain\n",
        "plt.hist(X['capital-gain'], color = 'blue', edgecolor = 'black',\n",
        "         bins = int(180/5))"
      ],
      "metadata": {
        "id": "IIhXWPXG0NBC",
        "colab": {
          "base_uri": "https://localhost:8080/",
          "height": 708
        },
        "outputId": "ac91d73a-cc0b-4c8c-9f0d-794a48c45608"
      },
      "execution_count": null,
      "outputs": [
        {
          "output_type": "execute_result",
          "data": {
            "text/plain": [
              "(array([1.4182e+04, 4.4100e+02, 3.2100e+02, 6.8000e+01, 1.5000e+01,\n",
              "        2.0800e+02, 1.0000e+00, 1.8000e+01, 0.0000e+00, 9.0000e+00,\n",
              "        1.6000e+01, 0.0000e+00, 2.0000e+00, 0.0000e+00, 0.0000e+00,\n",
              "        0.0000e+00, 0.0000e+00, 0.0000e+00, 0.0000e+00, 0.0000e+00,\n",
              "        0.0000e+00, 0.0000e+00, 0.0000e+00, 0.0000e+00, 0.0000e+00,\n",
              "        0.0000e+00, 0.0000e+00, 0.0000e+00, 0.0000e+00, 0.0000e+00,\n",
              "        0.0000e+00, 0.0000e+00, 0.0000e+00, 0.0000e+00, 0.0000e+00,\n",
              "        6.6000e+01]),\n",
              " array([    0.  ,  2777.75,  5555.5 ,  8333.25, 11111.  , 13888.75,\n",
              "        16666.5 , 19444.25, 22222.  , 24999.75, 27777.5 , 30555.25,\n",
              "        33333.  , 36110.75, 38888.5 , 41666.25, 44444.  , 47221.75,\n",
              "        49999.5 , 52777.25, 55555.  , 58332.75, 61110.5 , 63888.25,\n",
              "        66666.  , 69443.75, 72221.5 , 74999.25, 77777.  , 80554.75,\n",
              "        83332.5 , 86110.25, 88888.  , 91665.75, 94443.5 , 97221.25,\n",
              "        99999.  ]),\n",
              " <BarContainer object of 36 artists>)"
            ]
          },
          "metadata": {},
          "execution_count": 12
        },
        {
          "output_type": "display_data",
          "data": {
            "text/plain": [
              "<Figure size 640x480 with 1 Axes>"
            ],
            "image/png": "[encoded data removed]"
          },
          "metadata": {}
        }
      ]
    },
    {
      "cell_type": "code",
      "source": [
        "#Распределение признаков age, fnlwgt, capital-gain имеет правостороннюю ассиметрию.\n",
        "#Также видно, что одни числовые признаки имеют бОльшие числовые значения, чем другие (например, значения признака age явно больше значений признака fnlwgt).\n",
        "#Это может приводить к доминированию признаков с бОльшими значениями.\n",
        "#Масштабирование может решить вышеописанную проблему."
      ],
      "metadata": {
        "id": "fDhsPT330YBC"
      },
      "execution_count": null,
      "outputs": []
    },
    {
      "cell_type": "code",
      "execution_count": null,
      "metadata": {
        "collapsed": true,
        "id": "yn7u0o08_N__"
      },
      "outputs": [],
      "source": [
        "#создадим класс для масштабирования признаков\n",
        "class CustomScaler(TransformerMixin):\n",
        "    def __init__(self, cols, scaler=None):\n",
        "        self.cols = cols\n",
        "        self.scaler = StandardScaler()\n",
        "\n",
        "    def fit(self, X, y=None):\n",
        "        num_cols = X.copy()[self.cols]\n",
        "        self.scaler.fit(num_cols)\n",
        "        return self\n",
        "    def transform(self, X, y=None):\n",
        "        X_res = X.copy()\n",
        "        num_cols_tr = self.scaler.transform(X_res[self.cols])\n",
        "        for i, col in enumerate(self.cols):\n",
        "            X_res[col] = num_cols_tr[:,i]\n",
        "        return X_res\n",
        "\n",
        "#масштабируем вещественные признаки\n",
        "X_scaled = CustomScaler(X.columns).fit_transform(X)"
      ]
    },
    {
      "cell_type": "code",
      "source": [
        "#подберем наилучший параметр n_neighbors для KNN с помощью GridSearchCV\n",
        "neigh = KNeighborsClassifier()\n",
        "params = {'n_neighbors':[1,2,3,4,5,6,7,8,9,10]}\n",
        "grid = GridSearchCV(neigh, params, cv=5, scoring='roc_auc')\n",
        "grid.fit(X_scaled, y)\n",
        "print('best score:', grid.best_score_)\n",
        "print('best params:', grid.best_params_)"
      ],
      "metadata": {
        "colab": {
          "base_uri": "https://localhost:8080/"
        },
        "id": "Zk3xCfh3XCw6",
        "outputId": "6eb5cd4c-be0e-4a5d-dbb4-498f122846f4"
      },
      "execution_count": null,
      "outputs": [
        {
          "output_type": "stream",
          "name": "stdout",
          "text": [
            "best score: 0.8083485930057266\n",
            "best params: {'n_neighbors': 10}\n"
          ]
        }
      ]
    },
    {
      "cell_type": "code",
      "source": [
        "#Оптимальное значение параметра n_neighbors получилось равным 10. Значение ROC-AUC приблизительно равно 0.81."
      ],
      "metadata": {
        "id": "3tuJzg75bDQI"
      },
      "execution_count": null,
      "outputs": []
    },
    {
      "cell_type": "code",
      "source": [
        "#подберем наилучший параметр max_depth для DecisionTree с помощью GridSearchCV\n",
        "dtc = DecisionTreeClassifier()\n",
        "params = {'max_depth':[None,1,2,3,4,5,6,7,8,9,10]}\n",
        "grid = GridSearchCV(dtc, params, cv=5, scoring='roc_auc')\n",
        "grid.fit(X_scaled, y)\n",
        "print('best score:', grid.best_score_)\n",
        "print('best params:', grid.best_params_)"
      ],
      "metadata": {
        "colab": {
          "base_uri": "https://localhost:8080/"
        },
        "id": "rhTu2wrLXH1y",
        "outputId": "8568082c-f096-4c4a-bed3-df6575d852bd"
      },
      "execution_count": null,
      "outputs": [
        {
          "output_type": "stream",
          "name": "stdout",
          "text": [
            "best score: 0.8412486625133615\n",
            "best params: {'max_depth': 7}\n"
          ]
        }
      ]
    },
    {
      "cell_type": "code",
      "source": [
        "#Оптимальное значение параметра max_depth получилось равным 7. Значение ROC-AUC приблизительно равно 0.84."
      ],
      "metadata": {
        "id": "dqOjMJIobLPI"
      },
      "execution_count": null,
      "outputs": []
    },
    {
      "cell_type": "code",
      "source": [
        "#подберем наилучший параметр loss для SGD Linear Classifier с помощью GridSearchCV\n",
        "sgd = SGDClassifier()\n",
        "params = {'loss':['hinge', 'log_loss', 'modified_huber', 'squared_hinge', 'perceptron', 'squared_error', 'huber', 'epsilon_insensitive', 'squared_epsilon_insensitive']}\n",
        "grid = GridSearchCV(sgd, params, cv=5, scoring='roc_auc')\n",
        "grid.fit(X_scaled, y)\n",
        "print('best score:', grid.best_score_)\n",
        "print('best params:', grid.best_params_)"
      ],
      "metadata": {
        "colab": {
          "base_uri": "https://localhost:8080/"
        },
        "id": "0gS5GhhaXS-T",
        "outputId": "5799bd5a-e69b-42ad-bb99-5a925d6de6af"
      },
      "execution_count": null,
      "outputs": [
        {
          "output_type": "stream",
          "name": "stdout",
          "text": [
            "best score: 0.822732301072552\n",
            "best params: {'loss': 'log_loss'}\n"
          ]
        }
      ]
    },
    {
      "cell_type": "code",
      "source": [
        "#Оптимальным параметром loss является log_loss. Значение ROC-AUC приблизительно равно 0.82."
      ],
      "metadata": {
        "id": "FM6vsldlbTHq"
      },
      "execution_count": null,
      "outputs": []
    },
    {
      "cell_type": "code",
      "source": [
        "#подберем параметр n_estimators для RandomForest, при котором качество на кросс-валидации стабилизируется\n",
        "for a in np.arange(10, 101, 10):\n",
        "    rfc = RandomForestClassifier(n_estimators = a)\n",
        "    cv_res = cross_validate(rfc, X_scaled, y, scoring='roc_auc', cv=5)\n",
        "    print('n_estimators =', a)\n",
        "    print(f\"mean test ROC-AUC = {cv_res['test_score'].mean()}\")"
      ],
      "metadata": {
        "id": "dEX7I4xd3jzA",
        "colab": {
          "base_uri": "https://localhost:8080/"
        },
        "outputId": "06ee516e-e58d-4d53-d5aa-e7f61b04276a"
      },
      "execution_count": null,
      "outputs": [
        {
          "output_type": "stream",
          "name": "stdout",
          "text": [
            "n_estimators = 10\n",
            "mean test ROC-AUC = 0.796470205951327\n",
            "n_estimators = 20\n",
            "mean test ROC-AUC = 0.8054678847204357\n",
            "n_estimators = 30\n",
            "mean test ROC-AUC = 0.810412210860564\n",
            "n_estimators = 40\n",
            "mean test ROC-AUC = 0.8128591360352928\n",
            "n_estimators = 50\n",
            "mean test ROC-AUC = 0.8142124682288016\n",
            "n_estimators = 60\n",
            "mean test ROC-AUC = 0.81508751829084\n",
            "n_estimators = 70\n",
            "mean test ROC-AUC = 0.8165071953324553\n",
            "n_estimators = 80\n",
            "mean test ROC-AUC = 0.8165707876595321\n",
            "n_estimators = 90\n",
            "mean test ROC-AUC = 0.8170985612167065\n",
            "n_estimators = 100\n",
            "mean test ROC-AUC = 0.818328622494235\n"
          ]
        }
      ]
    },
    {
      "cell_type": "code",
      "source": [
        "#При n_estimators = 30 качество стабилизируется приблизительно на ROC-AUC = 0.81."
      ],
      "metadata": {
        "id": "l9JueXbD3xZI"
      },
      "execution_count": null,
      "outputs": []
    },
    {
      "cell_type": "code",
      "source": [
        "#Качество алгоритмов KNN, SGD Linear Classifier улучшилось. Качество алгоритмов DecisionTree и Random Forest почти не изменилось."
      ],
      "metadata": {
        "id": "pCbo-9doYTXR"
      },
      "execution_count": null,
      "outputs": []
    },
    {
      "cell_type": "code",
      "execution_count": null,
      "metadata": {
        "id": "db-5Y73f_OAA",
        "colab": {
          "base_uri": "https://localhost:8080/"
        },
        "outputId": "c0b6c945-bcba-459b-df07-b75927456336"
      },
      "outputs": [
        {
          "output_type": "stream",
          "name": "stdout",
          "text": [
            "best score: 0.8126035859327416\n",
            "best params: {'metric': 'cityblock', 'n_neighbors': 10}\n"
          ]
        }
      ],
      "source": [
        "#подберем наилучшую комбинацию параметров n_neighbors и metric для KNN с помощью GridSearchCV\n",
        "neigh = KNeighborsClassifier()\n",
        "params = {'n_neighbors':[1,2,3,4,5,6,7,8,9,10], 'metric':['minkowski','cityblock','cosine','euclidean']}\n",
        "grid = GridSearchCV(neigh, params, cv=5, scoring='roc_auc')\n",
        "grid.fit(X_scaled, y)\n",
        "print('best score:', grid.best_score_)\n",
        "print('best params:', grid.best_params_)"
      ]
    },
    {
      "cell_type": "code",
      "source": [
        "#Оптимальными значениями параметров получились n_neighbors = 10, metric = cityblock. Значение ROC-AUC приблизительно равно 0.81."
      ],
      "metadata": {
        "id": "CwtZYRDG9A0i"
      },
      "execution_count": null,
      "outputs": []
    },
    {
      "cell_type": "code",
      "source": [
        "#подберем наилучшие параметры max_depth и criterion для DecisionTree с помощью GridSearchCV\n",
        "dtc = DecisionTreeClassifier()\n",
        "params = {'max_depth':[None,1,2,3,4,5,6,7,8,9,10], 'criterion':['gini', 'entropy', 'log_loss']}\n",
        "grid = GridSearchCV(dtc, params, cv=5, scoring='roc_auc')\n",
        "grid.fit(X_scaled, y)\n",
        "print('best score:', grid.best_score_)\n",
        "print('best params:', grid.best_params_)"
      ],
      "metadata": {
        "colab": {
          "base_uri": "https://localhost:8080/"
        },
        "id": "mu0hHENgybpd",
        "outputId": "7c84620f-30a7-4399-d924-5574381a42f1"
      },
      "execution_count": null,
      "outputs": [
        {
          "output_type": "stream",
          "name": "stdout",
          "text": [
            "best score: 0.8426286932904967\n",
            "best params: {'criterion': 'log_loss', 'max_depth': 8}\n"
          ]
        }
      ]
    },
    {
      "cell_type": "code",
      "source": [
        "#Оптимальными значениями параметров получились max_depth = 8, criterion = log_loss. Значение ROC-AUC приблизительно равно 0.84."
      ],
      "metadata": {
        "id": "-J4T06W7zR9M"
      },
      "execution_count": null,
      "outputs": []
    },
    {
      "cell_type": "code",
      "source": [
        "#подберем наилучшие параметры loss и penalty для SGD Linear Classifier с помощью GridSearchCV\n",
        "sgd = SGDClassifier()\n",
        "params = {'loss':['hinge', 'log_loss', 'modified_huber', 'squared_hinge', 'perceptron', 'squared_error', 'huber', 'epsilon_insensitive', 'squared_epsilon_insensitive'], 'penalty':['l2', 'l1', 'elasticnet', None]}\n",
        "grid = GridSearchCV(sgd, params, cv=5, scoring='roc_auc')\n",
        "grid.fit(X_scaled, y)\n",
        "print('best score:', grid.best_score_)\n",
        "print('best params:', grid.best_params_)"
      ],
      "metadata": {
        "colab": {
          "base_uri": "https://localhost:8080/"
        },
        "id": "qrfPRzT0zZU2",
        "outputId": "b8622fca-8201-4f2b-904b-e69d23879b99"
      },
      "execution_count": null,
      "outputs": [
        {
          "output_type": "stream",
          "name": "stdout",
          "text": [
            "best score: 0.8223568062353355\n",
            "best params: {'loss': 'log_loss', 'penalty': 'elasticnet'}\n"
          ]
        }
      ]
    },
    {
      "cell_type": "code",
      "source": [
        "#Оптимальными значениями параметров получились loss = log_loss, penalty = elasticnet. Значение ROC-AUC приблизительно равно 0.82."
      ],
      "metadata": {
        "id": "hwkp4ZAa0EE1"
      },
      "execution_count": null,
      "outputs": []
    },
    {
      "cell_type": "code",
      "source": [
        "#подберем наилучшие параметры criterion и max_features для RandomForest с помощью GridSearchCV\n",
        "rfc = RandomForestClassifier(n_estimators = 30)\n",
        "params = {'criterion':['gini','entropy', 'log_loss'], 'max_features':['sqrt', 'log2', None]}\n",
        "grid = GridSearchCV(rfc, params, cv=5, scoring='roc_auc')\n",
        "grid.fit(X_scaled, y)\n",
        "print('best score:', grid.best_score_)\n",
        "print('best params:', grid.best_params_)"
      ],
      "metadata": {
        "colab": {
          "base_uri": "https://localhost:8080/"
        },
        "id": "TxSb1_tS0U00",
        "outputId": "26731002-441e-4e2b-adaf-1ccb53d2e516"
      },
      "execution_count": null,
      "outputs": [
        {
          "output_type": "stream",
          "name": "stdout",
          "text": [
            "best score: 0.812847825858336\n",
            "best params: {'criterion': 'entropy', 'max_features': None}\n"
          ]
        }
      ]
    },
    {
      "cell_type": "code",
      "source": [
        "#Оптимальными значениями параметров получились criterion = entropy, max_features = None. Значение ROC-AUC приблизительно равно 0.81."
      ],
      "metadata": {
        "id": "NIYjVvaS13ZZ"
      },
      "execution_count": null,
      "outputs": []
    },
    {
      "cell_type": "code",
      "source": [
        "#Наилучшее качество показал алгоритм DecisionTree."
      ],
      "metadata": {
        "id": "yFsvWpyi2Do5"
      },
      "execution_count": null,
      "outputs": []
    },
    {
      "cell_type": "markdown",
      "metadata": {
        "id": "BnCL_jQH_OAA"
      },
      "source": [
        "## Добавление категориальных признаков в модели\n"
      ]
    },
    {
      "cell_type": "code",
      "execution_count": null,
      "metadata": {
        "collapsed": true,
        "id": "OaPhUS4A_OAA"
      },
      "outputs": [],
      "source": [
        "#выделим категориальные признаки\n",
        "cat_columns = data.columns[data.dtypes == 'object']\n",
        "X_cat = data[cat_columns]"
      ]
    },
    {
      "cell_type": "code",
      "source": [
        "#преобразуем категориальные признаки\n",
        "one_hot_enc = OneHotEncoder()\n",
        "X_cat = one_hot_enc.fit_transform(X_cat)"
      ],
      "metadata": {
        "id": "x_CywYBYdeiL"
      },
      "execution_count": null,
      "outputs": []
    },
    {
      "cell_type": "code",
      "execution_count": null,
      "metadata": {
        "collapsed": true,
        "id": "RmEG_oQp_OAB"
      },
      "outputs": [],
      "source": [
        "#добавим к вещественным признакам категориальные\n",
        "X_float_cat = pd.concat([X_scaled, X_cat], axis=1)"
      ]
    },
    {
      "cell_type": "code",
      "source": [
        "#обучим алгоритм KNN и посмотрим на качество\n",
        "neigh = KNeighborsClassifier(n_neighbors = 10, metric = 'cityblock')\n",
        "cv_res = cross_validate(neigh, X_float_cat, y, scoring='roc_auc', cv=5)\n",
        "print(f\"mean test ROC-AUC = {cv_res['test_score'].mean()}\")"
      ],
      "metadata": {
        "colab": {
          "base_uri": "https://localhost:8080/"
        },
        "id": "e1pRSnfjgnMh",
        "outputId": "b44534e5-63d1-4ecd-d657-3057303ed5f5"
      },
      "execution_count": null,
      "outputs": [
        {
          "output_type": "stream",
          "name": "stdout",
          "text": [
            "mean test ROC-AUC = 0.874119738479291\n"
          ]
        }
      ]
    },
    {
      "cell_type": "code",
      "source": [
        "#Получилось приблизительно ROC-AUC = 0.87. Качество улучшилось."
      ],
      "metadata": {
        "id": "pekrsaEVhi2l"
      },
      "execution_count": null,
      "outputs": []
    },
    {
      "cell_type": "code",
      "source": [
        "#обучим алгоритм DecisionTree и посмотрим на качество\n",
        "dtc = DecisionTreeClassifier(max_depth = 8, criterion = 'log_loss')\n",
        "cv_res = cross_validate(dtc, X_float_cat, y, scoring='roc_auc', cv=5)\n",
        "print(f\"mean test ROC-AUC = {cv_res['test_score'].mean()}\")"
      ],
      "metadata": {
        "colab": {
          "base_uri": "https://localhost:8080/"
        },
        "id": "vCqnfqsghqVr",
        "outputId": "a60aa161-9001-4675-9427-100756db38da"
      },
      "execution_count": null,
      "outputs": [
        {
          "output_type": "stream",
          "name": "stdout",
          "text": [
            "mean test ROC-AUC = 0.889782438437299\n"
          ]
        }
      ]
    },
    {
      "cell_type": "code",
      "source": [
        "#Получилось приблизительно ROC-AUC = 0.89. Качество улучшилось."
      ],
      "metadata": {
        "id": "LVlRQh6ah8BB"
      },
      "execution_count": null,
      "outputs": []
    },
    {
      "cell_type": "code",
      "source": [
        "#обучим алгоритм SGD Linear Classifier и посмотрим на качество\n",
        "sgd = SGDClassifier(loss = 'log_loss', penalty = 'elasticnet')\n",
        "cv_res = cross_validate(sgd, X_float_cat, y, scoring='roc_auc', cv=5)\n",
        "print(f\"mean test ROC-AUC = {cv_res['test_score'].mean()}\")"
      ],
      "metadata": {
        "colab": {
          "base_uri": "https://localhost:8080/"
        },
        "id": "U5QMX9fDh-07",
        "outputId": "2556e1cf-b797-43c3-86db-799c9b60f0da"
      },
      "execution_count": null,
      "outputs": [
        {
          "output_type": "stream",
          "name": "stdout",
          "text": [
            "mean test ROC-AUC = 0.8982268655991744\n"
          ]
        }
      ]
    },
    {
      "cell_type": "code",
      "source": [
        "#Получилось приблизительно ROC-AUC = 0.90. Качество улучшилось."
      ],
      "metadata": {
        "id": "b5X2E6TFiT-G"
      },
      "execution_count": null,
      "outputs": []
    },
    {
      "cell_type": "code",
      "source": [
        "#обучим алгоритм RandomForest и посмотрим на качество\n",
        "rfc = RandomForestClassifier(n_estimators = 30, criterion = 'entropy', max_features = None)\n",
        "cv_res = cross_validate(rfc, X_float_cat, y, scoring='roc_auc', cv=5)\n",
        "print(f\"mean test ROC-AUC = {cv_res['test_score'].mean()}\")"
      ],
      "metadata": {
        "colab": {
          "base_uri": "https://localhost:8080/"
        },
        "id": "9VZHDTt0hBIJ",
        "outputId": "2599fbda-f7df-493a-c7de-6e17aacd31fa"
      },
      "execution_count": null,
      "outputs": [
        {
          "output_type": "stream",
          "name": "stdout",
          "text": [
            "mean test ROC-AUC = 0.8950266652269752\n"
          ]
        }
      ]
    },
    {
      "cell_type": "code",
      "source": [
        "#Получилось приблизительно ROC-AUC = 0.90. Качество улучшилось."
      ],
      "metadata": {
        "id": "axJ_FC_Nirch"
      },
      "execution_count": null,
      "outputs": []
    },
    {
      "cell_type": "code",
      "source": [
        "#Наилучший классификатор - SGD Linear Classifier."
      ],
      "metadata": {
        "id": "hVkqJnndi9-S"
      },
      "execution_count": null,
      "outputs": []
    }
  ],
  "metadata": {
    "kernelspec": {
      "display_name": "Python 3",
      "language": "python",
      "name": "python3"
    },
    "language_info": {
      "codemirror_mode": {
        "name": "ipython",
        "version": 3
      },
      "file_extension": ".py",
      "mimetype": "text/x-python",
      "name": "python",
      "nbconvert_exporter": "python",
      "pygments_lexer": "ipython3",
      "version": "3.7.6"
    },
    "colab": {
      "provenance": []
    }
  },
  "nbformat": 4,
  "nbformat_minor": 0
}